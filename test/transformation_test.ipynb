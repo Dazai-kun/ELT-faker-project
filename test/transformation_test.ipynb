{
 "cells": [
  {
   "cell_type": "code",
   "execution_count": 73,
   "metadata": {},
   "outputs": [],
   "source": [
    "from minio import Minio\n",
    "import pandas as pd\n",
    "import os\n",
    "import io\n",
    "from datetime import datetime, timedelta\n"
   ]
  },
  {
   "cell_type": "code",
   "execution_count": 68,
   "metadata": {},
   "outputs": [],
   "source": [
    "client = Minio(endpoint=\"localhost:9000\", access_key='a5926TSNVC2r9J4Y2Eqh', secret_key='3YBQqcerjz5TsV8X851gi3Rl7YNclYQ6UD1MrEPY', secure=False)"
   ]
  },
  {
   "cell_type": "code",
   "execution_count": 70,
   "metadata": {},
   "outputs": [],
   "source": [
    "#DEFINITIONS\n",
    "tbl_list = ['users', 'products', 'transactions', 'transaction_detail']\n",
    "bucket_name = 'snapshot'\n",
    "\n",
    "#DEFINE CURRENT TIME VARIABLES\n",
    "current_dt_string = datetime.now()\n",
    "current_date_full = current_dt_string.strftime(\"%d%m%Y%H%M%S\")\n",
    "current_year = current_dt_string.strftime(\"%Y\")\n",
    "current_month = current_dt_string.strftime(\"%m\")\n",
    "current_date = current_dt_string.strftime(\"%d\")\n",
    "\n",
    "#DEFINE PREVIOUS DAY TIME VARIABLES\n",
    "\n",
    "prev_dt_string = current_dt_string - timedelta(days=1)\n",
    "prev_full_date = prev_dt_string.strftime(\"%d%m%Y%H%M%S\")\n",
    "prev_year = prev_dt_string.strftime(\"%Y\") # prev_year means that the year that last day's data was on, not literally 'last year'\n",
    "prev_month = prev_dt_string.strftime(\"%m\") # the same rule applies for prev_month and prev_date.\n",
    "prev_date = prev_dt_string.strftime(\"%d\")\n"
   ]
  },
  {
   "cell_type": "code",
   "execution_count": 93,
   "metadata": {},
   "outputs": [],
   "source": [
    "read_the_parquet= pd.read_parquet(\"/home/admin/Downloads/products_snapshot_08062024111632.parquet\")"
   ]
  },
  {
   "cell_type": "code",
   "execution_count": 94,
   "metadata": {},
   "outputs": [
    {
     "data": {
      "text/html": [
       "<div>\n",
       "<style scoped>\n",
       "    .dataframe tbody tr th:only-of-type {\n",
       "        vertical-align: middle;\n",
       "    }\n",
       "\n",
       "    .dataframe tbody tr th {\n",
       "        vertical-align: top;\n",
       "    }\n",
       "\n",
       "    .dataframe thead th {\n",
       "        text-align: right;\n",
       "    }\n",
       "</style>\n",
       "<table border=\"1\" class=\"dataframe\">\n",
       "  <thead>\n",
       "    <tr style=\"text-align: right;\">\n",
       "      <th></th>\n",
       "      <th>id</th>\n",
       "      <th>product_name</th>\n",
       "      <th>unit_price</th>\n",
       "      <th>category</th>\n",
       "    </tr>\n",
       "  </thead>\n",
       "  <tbody>\n",
       "  </tbody>\n",
       "</table>\n",
       "</div>"
      ],
      "text/plain": [
       "Empty DataFrame\n",
       "Columns: [id, product_name, unit_price, category]\n",
       "Index: []"
      ]
     },
     "execution_count": 94,
     "metadata": {},
     "output_type": "execute_result"
    }
   ],
   "source": [
    "read_the_parquet"
   ]
  },
  {
   "cell_type": "code",
   "execution_count": 89,
   "metadata": {},
   "outputs": [],
   "source": [
    "\n",
    "def create_df_for_t1_day():\n",
    "    df_t1 = []\n",
    "    for table in tbl_list:\n",
    "        t1_dt_obj_list = client.list_objects(bucket_name=bucket_name, prefix=f'{bucket_name}/{table}/2024/06/08/')\n",
    "        # t1_dt_obj_list = client.list_objects(bucket_name=bucket_name, prefix=f'{bucket_name}/{table}/{prev_year}/{prev_month}/{prev_date}/')\n",
    "        for obj in t1_dt_obj_list:            \n",
    "            file_path = os.path.basename(obj.object_name)\n",
    "            object_key = obj.object_name\n",
    "            print(f'object_key: {object_key}, file_path: {file_path}')\n",
    "\n",
    "            try:\n",
    "                response_t1 = client.get_object(bucket_name,object_name=object_key)\n",
    "                buffer = io.BytesIO(response_t1.read())\n",
    "                df = pd.read_parquet(buffer)\n",
    "                df_t1.append(df)\n",
    "                print(df_t1)       \n",
    "            \n",
    "            finally:\n",
    "                response_t1.close()\n",
    "                buffer.close()\n",
    "                response_t1.release_conn()\n",
    "    return df_t1"
   ]
  },
  {
   "cell_type": "code",
   "execution_count": 91,
   "metadata": {},
   "outputs": [
    {
     "name": "stdout",
     "output_type": "stream",
     "text": [
      "object_key: snapshot/users/2024/06/08/users_snapshot_08062024111632.parquet, file_path: users_snapshot_08062024111632.parquet\n",
      "[Empty DataFrame\n",
      "Columns: [id, name, email, created_at]\n",
      "Index: []]\n",
      "object_key: snapshot/products/2024/06/08/products_snapshot_08062024111632.parquet, file_path: products_snapshot_08062024111632.parquet\n",
      "[Empty DataFrame\n",
      "Columns: [id, name, email, created_at]\n",
      "Index: [], Empty DataFrame\n",
      "Columns: [id, product_name, unit_price, category]\n",
      "Index: []]\n",
      "object_key: snapshot/transactions/2024/06/08/transactions_snapshot_08062024111632.parquet, file_path: transactions_snapshot_08062024111632.parquet\n",
      "[Empty DataFrame\n",
      "Columns: [id, name, email, created_at]\n",
      "Index: [], Empty DataFrame\n",
      "Columns: [id, product_name, unit_price, category]\n",
      "Index: [], Empty DataFrame\n",
      "Columns: [id, transaction_date, total_amount, cash_received, change_due, user_id]\n",
      "Index: []]\n",
      "object_key: snapshot/transaction_detail/2024/06/08/transaction_detail_snapshot_08062024111632.parquet, file_path: transaction_detail_snapshot_08062024111632.parquet\n",
      "[Empty DataFrame\n",
      "Columns: [id, name, email, created_at]\n",
      "Index: [], Empty DataFrame\n",
      "Columns: [id, product_name, unit_price, category]\n",
      "Index: [], Empty DataFrame\n",
      "Columns: [id, transaction_date, total_amount, cash_received, change_due, user_id]\n",
      "Index: [], Empty DataFrame\n",
      "Columns: [transaction_id, product_id, quantity, total_amount]\n",
      "Index: []]\n"
     ]
    }
   ],
   "source": [
    "df_t1 = create_df_for_t1_day()"
   ]
  },
  {
   "cell_type": "code",
   "execution_count": 92,
   "metadata": {},
   "outputs": [
    {
     "data": {
      "text/html": [
       "<div>\n",
       "<style scoped>\n",
       "    .dataframe tbody tr th:only-of-type {\n",
       "        vertical-align: middle;\n",
       "    }\n",
       "\n",
       "    .dataframe tbody tr th {\n",
       "        vertical-align: top;\n",
       "    }\n",
       "\n",
       "    .dataframe thead th {\n",
       "        text-align: right;\n",
       "    }\n",
       "</style>\n",
       "<table border=\"1\" class=\"dataframe\">\n",
       "  <thead>\n",
       "    <tr style=\"text-align: right;\">\n",
       "      <th></th>\n",
       "      <th>id</th>\n",
       "      <th>product_name</th>\n",
       "      <th>unit_price</th>\n",
       "      <th>category</th>\n",
       "    </tr>\n",
       "  </thead>\n",
       "  <tbody>\n",
       "  </tbody>\n",
       "</table>\n",
       "</div>"
      ],
      "text/plain": [
       "Empty DataFrame\n",
       "Columns: [id, product_name, unit_price, category]\n",
       "Index: []"
      ]
     },
     "execution_count": 92,
     "metadata": {},
     "output_type": "execute_result"
    }
   ],
   "source": [
    "df_t1[1]"
   ]
  },
  {
   "cell_type": "code",
   "execution_count": 74,
   "metadata": {},
   "outputs": [],
   "source": [
    "def create_df_for_t2_day():\n",
    "    for table in tbl_list:\n",
    "        t2_dt_obj_list = client.list_objects(bucket_name=bucket_name, prefix=f'{bucket_name}/{table}/{prev_year}/{prev_month}/{prev_date}/')\n",
    "        for obj in t2_dt_obj_list:            \n",
    "            file_path = os.path.basename(obj.object_name)\n",
    "            object_key = obj.object_name\n",
    "            print(f'object_key: {object_key}, file_path: {file_path}')\n",
    "\n",
    "            try:\n",
    "                response_t2 = client.get_object(\"snapshot\", object_key=object_key)\n",
    "                buffer = io.BytesIO(response_t2.read())\n",
    "                df_t2 = pd.read_parquet(data=buffer)\n",
    "                print(df_t2)       \n",
    "                \n",
    "            finally:\n",
    "                response_t2.close()\n",
    "                buffer.close()\n",
    "                response_t2.release_conn()\n",
    "    return df_t2"
   ]
  },
  {
   "cell_type": "code",
   "execution_count": 77,
   "metadata": {},
   "outputs": [
    {
     "ename": "UnboundLocalError",
     "evalue": "cannot access local variable 'df_t1' where it is not associated with a value",
     "output_type": "error",
     "traceback": [
      "\u001b[0;31m---------------------------------------------------------------------------\u001b[0m",
      "\u001b[0;31mUnboundLocalError\u001b[0m                         Traceback (most recent call last)",
      "Cell \u001b[0;32mIn[77], line 1\u001b[0m\n\u001b[0;32m----> 1\u001b[0m \u001b[43mcreate_df_for_t1_day\u001b[49m\u001b[43m(\u001b[49m\u001b[43m)\u001b[49m\n\u001b[1;32m      2\u001b[0m create_df_for_t2_day()\n",
      "Cell \u001b[0;32mIn[76], line 19\u001b[0m, in \u001b[0;36mcreate_df_for_t1_day\u001b[0;34m()\u001b[0m\n\u001b[1;32m     17\u001b[0m             buffer\u001b[38;5;241m.\u001b[39mclose()\n\u001b[1;32m     18\u001b[0m             response_t1\u001b[38;5;241m.\u001b[39mrelease_conn()\n\u001b[0;32m---> 19\u001b[0m \u001b[38;5;28;01mreturn\u001b[39;00m \u001b[43mdf_t1\u001b[49m\n",
      "\u001b[0;31mUnboundLocalError\u001b[0m: cannot access local variable 'df_t1' where it is not associated with a value"
     ]
    }
   ],
   "source": [
    "create_df_for_t1_day()\n",
    "create_df_for_t2_day()"
   ]
  }
 ],
 "metadata": {
  "kernelspec": {
   "display_name": ".venv",
   "language": "python",
   "name": "python3"
  },
  "language_info": {
   "codemirror_mode": {
    "name": "ipython",
    "version": 3
   },
   "file_extension": ".py",
   "mimetype": "text/x-python",
   "name": "python",
   "nbconvert_exporter": "python",
   "pygments_lexer": "ipython3",
   "version": "3.12.3"
  }
 },
 "nbformat": 4,
 "nbformat_minor": 2
}
