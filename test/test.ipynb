{
 "cells": [
  {
   "cell_type": "code",
   "execution_count": 1,
   "metadata": {},
   "outputs": [],
   "source": [
    "import pandas as pd\n",
    "import pyarrow.parquet as pq\n",
    "import io\n",
    "import pyarrow as pa\n",
    "import psycopg2\n",
    "from minio import Minio\n",
    "from datetime import datetime, timedelta"
   ]
  },
  {
   "cell_type": "code",
   "execution_count": 2,
   "metadata": {},
   "outputs": [],
   "source": [
    "client = Minio(endpoint=\"localhost:9000\", access_key='a5926TSNVC2r9J4Y2Eqh', secret_key='3YBQqcerjz5TsV8X851gi3Rl7YNclYQ6UD1MrEPY', secure=False)\"\""
   ]
  },
  {
   "cell_type": "code",
   "execution_count": 3,
   "metadata": {},
   "outputs": [],
   "source": [
    "conn = psycopg2.connect(user=\"oltp\",\n",
    "                                  password=\"oltp\",\n",
    "                                  host=\"localhost\",\n",
    "                                  port=\"5432\",\n",
    "                                  database=\"oltp\")"
   ]
  },
  {
   "cell_type": "code",
   "execution_count": 4,
   "metadata": {},
   "outputs": [],
   "source": [
    "tbl_list = ['users', 'products', 'transactions', 'transaction_detail']"
   ]
  },
  {
   "cell_type": "code",
   "execution_count": 5,
   "metadata": {},
   "outputs": [],
   "source": [
    "# Define time variables\n",
    "prev_dt_string = datetime.now() - timedelta(days=1)\n",
    "full_date = prev_dt_string.strftime(\"%d%m%Y%H%M%S\")\n",
    "year = prev_dt_string.strftime(\"%Y\")\n",
    "month = prev_dt_string.strftime(\"%m\")\n",
    "date = prev_dt_string.strftime(\"%d\")"
   ]
  },
  {
   "cell_type": "code",
   "execution_count": 7,
   "metadata": {},
   "outputs": [],
   "source": [
    "def check_if_bucket_exists():\n",
    "    if client.bucket_exists(\"snapshot\"):\n",
    "        print(\"snapshot bucket exists\")\n",
    "    else:\n",
    "        client.make_bucket(\"snapshot\")\n"
   ]
  },
  {
   "cell_type": "code",
   "execution_count": 12,
   "metadata": {},
   "outputs": [],
   "source": [
    "def load_to_minio_bucket():\n",
    "    for name in tbl_list:\n",
    "        # activate the cursor\n",
    "        cur = conn.cursor()\n",
    "        # retrieve all records from current table\n",
    "        cur.execute(f\"SELECT * FROM {name}\")\n",
    "        records = cur.fetchall()\n",
    "        # retrieve column names of the table\n",
    "        cur.execute(f\"\"\"SELECT a.attname FROM pg_attribute a \n",
    "                    WHERE attrelid = '{name}'::regclass\n",
    "                    AND NOT a.attisdropped \n",
    "                    AND a.attnum > 0 \"\"\") \n",
    "        col_tuple = cur.fetchall() #this returns a list of tuples [('id',), ('name',), ('email',), ('created_at',)]\n",
    "        col_list = [t[0] for t in col_tuple]\n",
    "    \n",
    "        # create a dataframe from the records and col names\n",
    "        df = pd.DataFrame(data=records, columns=col_list)\n",
    "    \n",
    "        buffer = io.BytesIO()\n",
    "        df.to_parquet(buffer)\n",
    "        buffer.seek(0)\n",
    "        \n",
    "        # load the dataframe into minio bucket as parquet files\n",
    "        target_bucket = 'snapshot'\n",
    "        target_file = f\"{name}_snapshot_{full_date}.parquet\"\n",
    "        target_path = f\"/{target_bucket}/{name}/{year}/{month}/{date}/{target_file}\"\n",
    "        \n",
    "        client.put_object(target_bucket,target_path, buffer, \n",
    "                    length=buffer.getbuffer().nbytes, content_type='application/parquet')\n",
    "        cur.close()\n",
    "    "
   ]
  },
  {
   "cell_type": "code",
   "execution_count": 9,
   "metadata": {},
   "outputs": [],
   "source": [
    "check_if_bucket_exists()"
   ]
  },
  {
   "cell_type": "code",
   "execution_count": 13,
   "metadata": {},
   "outputs": [],
   "source": [
    "load_to_minio_bucket()"
   ]
  }
 ],
 "metadata": {
  "kernelspec": {
   "display_name": ".venv",
   "language": "python",
   "name": "python3"
  },
  "language_info": {
   "codemirror_mode": {
    "name": "ipython",
    "version": 3
   },
   "file_extension": ".py",
   "mimetype": "text/x-python",
   "name": "python",
   "nbconvert_exporter": "python",
   "pygments_lexer": "ipython3",
   "version": "3.12.3"
  }
 },
 "nbformat": 4,
 "nbformat_minor": 2
}
